{
  "nbformat": 4,
  "nbformat_minor": 0,
  "metadata": {
    "colab": {
      "provenance": [],
      "authorship_tag": "ABX9TyOMEsL5ojEi8PiqyNrvvNr6",
      "include_colab_link": true
    },
    "kernelspec": {
      "name": "python3",
      "display_name": "Python 3"
    },
    "language_info": {
      "name": "python"
    }
  },
  "cells": [
    {
      "cell_type": "markdown",
      "metadata": {
        "id": "view-in-github",
        "colab_type": "text"
      },
      "source": [
        "<a href=\"https://colab.research.google.com/github/Thanuja200/ML/blob/main/6th_exp.ipynb\" target=\"_parent\"><img src=\"https://colab.research.google.com/assets/colab-badge.svg\" alt=\"Open In Colab\"/></a>"
      ]
    },
    {
      "cell_type": "code",
      "execution_count": 1,
      "metadata": {
        "colab": {
          "base_uri": "https://localhost:8080/"
        },
        "id": "IeUSfWZWB7Im",
        "outputId": "3d01647a-fa28-453e-bf05-e61cfd74aff1"
      },
      "outputs": [
        {
          "output_type": "stream",
          "name": "stdout",
          "text": [
            "Original Employee Data:\n",
            "   Employee id Gender Remarks\n",
            "0           10      M    Good\n",
            "1           20      F    Nice\n",
            "2           15      F    Good\n",
            "3           25      M   Great\n",
            "4           30      F    Nice\n",
            "\n",
            "One-Hot Encoded Data using Pandas:\n",
            "   Employee id  Gender_M  Remarks_Great  Remarks_Nice\n",
            "0           10      True          False         False\n",
            "1           20     False          False          True\n",
            "2           15     False          False         False\n",
            "3           25      True           True         False\n",
            "4           30     False          False          True\n",
            "\n",
            "One-Hot Encoded Data using Scikit-Learn:\n",
            "   Employee id  Gender_M  Remarks_Great  Remarks_Nice\n",
            "0           10       1.0            0.0           0.0\n",
            "1           20       0.0            0.0           1.0\n",
            "2           15       0.0            0.0           0.0\n",
            "3           25       1.0            1.0           0.0\n",
            "4           30       0.0            0.0           1.0\n"
          ]
        }
      ],
      "source": [
        "import pandas as pd\n",
        "from sklearn.preprocessing import OneHotEncoder\n",
        "\n",
        "# Sample Data\n",
        "data = {\n",
        "    'Employee id': [10, 20, 15, 25, 30],\n",
        "    'Gender': ['M', 'F', 'F', 'M', 'F'],\n",
        "    'Remarks': ['Good', 'Nice', 'Good', 'Great', 'Nice']\n",
        "}\n",
        "df = pd.DataFrame(data)\n",
        "print(f\"Original Employee Data:\\n{df}\\n\")\n",
        "\n",
        "# Save original dataset\n",
        "df.to_csv('employee_data.csv', index=False)\n",
        "\n",
        "# ---------- Using Pandas get_dummies ----------\n",
        "df_pandas_encoded = pd.get_dummies(df, columns=['Gender', 'Remarks'], drop_first=True)\n",
        "print(f\"One-Hot Encoded Data using Pandas:\\n{df_pandas_encoded}\\n\")\n",
        "\n",
        "# ---------- Using Scikit-learn OneHotEncoder ----------\n",
        "# Define categorical columns\n",
        "categorical_columns = ['Gender', 'Remarks']\n",
        "\n",
        "# Initialize OneHotEncoder\n",
        "encoder = OneHotEncoder(drop='first', sparse_output=False)\n",
        "\n",
        "# Fit and transform categorical columns\n",
        "one_hot_encoded = encoder.fit_transform(df[categorical_columns])\n",
        "\n",
        "# Convert encoded output to DataFrame\n",
        "one_hot_df = pd.DataFrame(one_hot_encoded, columns=encoder.get_feature_names_out(categorical_columns))\n",
        "\n",
        "# Concatenate with original DataFrame (excluding original categorical columns)\n",
        "df_sklearn_encoded = pd.concat([df.drop(categorical_columns, axis=1), one_hot_df], axis=1)\n",
        "print(f\"One-Hot Encoded Data using Scikit-Learn:\\n{df_sklearn_encoded}\")\n"
      ]
    }
  ]
}