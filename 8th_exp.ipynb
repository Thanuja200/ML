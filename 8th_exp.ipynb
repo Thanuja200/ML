{
  "nbformat": 4,
  "nbformat_minor": 0,
  "metadata": {
    "colab": {
      "provenance": [],
      "authorship_tag": "ABX9TyPS323sHUAGpz4ULuPjL94I",
      "include_colab_link": true
    },
    "kernelspec": {
      "name": "python3",
      "display_name": "Python 3"
    },
    "language_info": {
      "name": "python"
    }
  },
  "cells": [
    {
      "cell_type": "markdown",
      "metadata": {
        "id": "view-in-github",
        "colab_type": "text"
      },
      "source": [
        "<a href=\"https://colab.research.google.com/github/Thanuja200/ML/blob/main/8th_exp.ipynb\" target=\"_parent\"><img src=\"https://colab.research.google.com/assets/colab-badge.svg\" alt=\"Open In Colab\"/></a>"
      ]
    },
    {
      "cell_type": "code",
      "execution_count": 1,
      "metadata": {
        "colab": {
          "base_uri": "https://localhost:8080/"
        },
        "id": "SfiKn_RiDARZ",
        "outputId": "d1352cf1-64fd-482e-d4ff-904f5c2590e9"
      },
      "outputs": [
        {
          "output_type": "stream",
          "name": "stdout",
          "text": [
            "✅ Correct Prediction: Actual Class 1, Predicted Class 1\n",
            "✅ Correct Prediction: Actual Class 0, Predicted Class 0\n",
            "✅ Correct Prediction: Actual Class 2, Predicted Class 2\n",
            "✅ Correct Prediction: Actual Class 1, Predicted Class 1\n",
            "✅ Correct Prediction: Actual Class 1, Predicted Class 1\n",
            "✅ Correct Prediction: Actual Class 0, Predicted Class 0\n",
            "✅ Correct Prediction: Actual Class 1, Predicted Class 1\n",
            "✅ Correct Prediction: Actual Class 2, Predicted Class 2\n",
            "✅ Correct Prediction: Actual Class 1, Predicted Class 1\n",
            "✅ Correct Prediction: Actual Class 1, Predicted Class 1\n",
            "✅ Correct Prediction: Actual Class 2, Predicted Class 2\n",
            "✅ Correct Prediction: Actual Class 0, Predicted Class 0\n",
            "✅ Correct Prediction: Actual Class 0, Predicted Class 0\n",
            "✅ Correct Prediction: Actual Class 0, Predicted Class 0\n",
            "✅ Correct Prediction: Actual Class 0, Predicted Class 0\n",
            "✅ Correct Prediction: Actual Class 1, Predicted Class 1\n",
            "✅ Correct Prediction: Actual Class 2, Predicted Class 2\n",
            "✅ Correct Prediction: Actual Class 1, Predicted Class 1\n",
            "✅ Correct Prediction: Actual Class 1, Predicted Class 1\n",
            "✅ Correct Prediction: Actual Class 2, Predicted Class 2\n",
            "✅ Correct Prediction: Actual Class 0, Predicted Class 0\n",
            "✅ Correct Prediction: Actual Class 2, Predicted Class 2\n",
            "✅ Correct Prediction: Actual Class 0, Predicted Class 0\n",
            "✅ Correct Prediction: Actual Class 2, Predicted Class 2\n",
            "✅ Correct Prediction: Actual Class 2, Predicted Class 2\n",
            "✅ Correct Prediction: Actual Class 2, Predicted Class 2\n",
            "✅ Correct Prediction: Actual Class 2, Predicted Class 2\n",
            "✅ Correct Prediction: Actual Class 2, Predicted Class 2\n",
            "✅ Correct Prediction: Actual Class 0, Predicted Class 0\n",
            "✅ Correct Prediction: Actual Class 0, Predicted Class 0\n",
            "✅ Correct Prediction: Actual Class 0, Predicted Class 0\n",
            "✅ Correct Prediction: Actual Class 0, Predicted Class 0\n",
            "✅ Correct Prediction: Actual Class 1, Predicted Class 1\n",
            "✅ Correct Prediction: Actual Class 0, Predicted Class 0\n",
            "✅ Correct Prediction: Actual Class 0, Predicted Class 0\n",
            "✅ Correct Prediction: Actual Class 2, Predicted Class 2\n",
            "✅ Correct Prediction: Actual Class 1, Predicted Class 1\n",
            "✅ Correct Prediction: Actual Class 0, Predicted Class 0\n",
            "✅ Correct Prediction: Actual Class 0, Predicted Class 0\n",
            "✅ Correct Prediction: Actual Class 0, Predicted Class 0\n",
            "✅ Correct Prediction: Actual Class 2, Predicted Class 2\n",
            "✅ Correct Prediction: Actual Class 1, Predicted Class 1\n",
            "✅ Correct Prediction: Actual Class 1, Predicted Class 1\n",
            "✅ Correct Prediction: Actual Class 0, Predicted Class 0\n",
            "✅ Correct Prediction: Actual Class 0, Predicted Class 0\n",
            "\n",
            "🔍 Accuracy: 100.00%\n",
            "✅ Total Correct Predictions: 45\n",
            "❌ Total Wrong Predictions: 0\n"
          ]
        }
      ],
      "source": [
        "# Import necessary libraries\n",
        "from sklearn import datasets\n",
        "from sklearn.model_selection import train_test_split\n",
        "from sklearn.neighbors import KNeighborsClassifier\n",
        "from sklearn.metrics import accuracy_score\n",
        "\n",
        "# Load the Iris dataset\n",
        "iris = datasets.load_iris()\n",
        "X = iris.data\n",
        "y = iris.target\n",
        "\n",
        "# Split the dataset into training and testing sets\n",
        "X_train, X_test, y_train, y_test = train_test_split(X, y, test_size=0.3, random_state=42)\n",
        "\n",
        "# Initialize the k-NN classifier (k=3)\n",
        "knn = KNeighborsClassifier(n_neighbors=3)\n",
        "\n",
        "# Fit the classifier to the training data\n",
        "knn.fit(X_train, y_train)\n",
        "\n",
        "# Make predictions on the test data\n",
        "y_pred = knn.predict(X_test)\n",
        "\n",
        "# Print correct and wrong predictions\n",
        "correct_predictions = 0\n",
        "wrong_predictions = 0\n",
        "\n",
        "for i in range(len(y_test)):\n",
        "    if y_pred[i] == y_test[i]:\n",
        "        print(f\"✅ Correct Prediction: Actual Class {y_test[i]}, Predicted Class {y_pred[i]}\")\n",
        "        correct_predictions += 1\n",
        "    else:\n",
        "        print(f\"❌ Wrong Prediction: Actual Class {y_test[i]}, Predicted Class {y_pred[i]}\")\n",
        "        wrong_predictions += 1\n",
        "\n",
        "# Calculate and print the accuracy of the classifier\n",
        "accuracy = accuracy_score(y_test, y_pred)\n",
        "print(f\"\\n🔍 Accuracy: {accuracy * 100:.2f}%\")\n",
        "print(f\"✅ Total Correct Predictions: {correct_predictions}\")\n",
        "print(f\"❌ Total Wrong Predictions: {wrong_predictions}\")\n"
      ]
    }
  ]
}