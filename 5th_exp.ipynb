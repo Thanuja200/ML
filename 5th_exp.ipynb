{
  "nbformat": 4,
  "nbformat_minor": 0,
  "metadata": {
    "colab": {
      "provenance": [],
      "authorship_tag": "ABX9TyMd+y5uj9RjC4QH3SLT2mDX",
      "include_colab_link": true
    },
    "kernelspec": {
      "name": "python3",
      "display_name": "Python 3"
    },
    "language_info": {
      "name": "python"
    }
  },
  "cells": [
    {
      "cell_type": "markdown",
      "metadata": {
        "id": "view-in-github",
        "colab_type": "text"
      },
      "source": [
        "<a href=\"https://colab.research.google.com/github/Thanuja200/ML/blob/main/5th_exp.ipynb\" target=\"_parent\"><img src=\"https://colab.research.google.com/assets/colab-badge.svg\" alt=\"Open In Colab\"/></a>"
      ]
    },
    {
      "cell_type": "code",
      "execution_count": 1,
      "metadata": {
        "colab": {
          "base_uri": "https://localhost:8080/"
        },
        "id": "nuIgC-bKBKlV",
        "outputId": "8ce48f21-e24b-405e-a6af-317d8f429353"
      },
      "outputs": [
        {
          "output_type": "stream",
          "name": "stdout",
          "text": [
            "MSE: 22.418\n",
            "Bias: 20.744\n",
            "Variance: 1.674\n"
          ]
        }
      ],
      "source": [
        "# Install mlxtend if not already available\n",
        "!pip install mlxtend --quiet\n",
        "\n",
        "# Import required libraries\n",
        "import pandas as pd\n",
        "from sklearn.model_selection import train_test_split\n",
        "from sklearn.linear_model import LinearRegression\n",
        "from mlxtend.evaluate import bias_variance_decomp\n",
        "\n",
        "# Load dataset\n",
        "url = 'https://raw.githubusercontent.com/jbrownlee/Datasets/master/housing.csv'\n",
        "df = pd.read_csv(url, header=None)\n",
        "\n",
        "# Remove duplicate rows (if any)\n",
        "df = df.drop_duplicates()\n",
        "\n",
        "# Separate features and target\n",
        "X = df.iloc[:, :-1].values\n",
        "y = df.iloc[:, -1].values\n",
        "\n",
        "# Split into training and testing\n",
        "X_train, X_test, y_train, y_test = train_test_split(X, y, test_size=0.33, random_state=1)\n",
        "\n",
        "# Define model\n",
        "model = LinearRegression()\n",
        "\n",
        "# Estimate bias and variance\n",
        "mse, bias, var = bias_variance_decomp(\n",
        "    model, X_train, y_train, X_test, y_test,\n",
        "    loss='mse',\n",
        "    num_rounds=200,\n",
        "    random_seed=1\n",
        ")\n",
        "\n",
        "# Display results\n",
        "print('MSE: %.3f' % mse)\n",
        "print('Bias: %.3f' % bias)\n",
        "print('Variance: %.3f' % var)\n"
      ]
    }
  ]
}